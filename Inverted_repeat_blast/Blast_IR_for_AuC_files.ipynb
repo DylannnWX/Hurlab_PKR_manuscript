{
 "cells": [
  {
   "cell_type": "code",
   "execution_count": 22,
   "id": "a34d782c",
   "metadata": {},
   "outputs": [],
   "source": [
    "import pandas as pd \n",
    "import numpy as np\n",
    "from Bio.Blast import NCBIWWW, NCBIXML\n",
    "from Bio import SeqIO\n",
    "from Bio.Blast.Applications import NcbiblastnCommandline\n",
    "from io import StringIO\n",
    "from Bio.Blast import NCBIXML\n",
    "from Bio.Seq import Seq\n",
    "from Bio.SeqRecord import SeqRecord\n",
    "from Bio import SeqIO\n",
    "#please change the blastn_path to your local blastn engine. \n",
    "blastn_path = r\"C:\\Program Files\\NCBI\\blast-2.15.0+\\bin\\blastn.exe\"\n",
    "#This Blastref is required from Repbase (https://www.girinst.org/repbase/)\n",
    "df_Blastref = pd.read_csv(\"./BLAST_ref_source/IR_search_reference.csv\")"
   ]
  },
  {
   "cell_type": "code",
   "execution_count": 23,
   "id": "5cdd8be3",
   "metadata": {},
   "outputs": [],
   "source": [
    "def Blast_csv(filename):\n",
    "    df=pd.read_csv(filename)\n",
    "    df['Seq_idA'] = df['Chr'] + \":\" + df['repeat_start'].astype(str) + \"-\" + df['repeat_end'].astype(str)\n",
    "    df2 = df[['Seq_idA']].copy().drop_duplicates(subset='Seq_idA', keep='first')\n",
    "    merged_df = pd.merge(df_Blastref, df2, on='Seq_idA', how='inner')\n",
    "    \n",
    "    for index, row in merged_df.iterrows():\n",
    "        sequence1 = row['SequencesA']\n",
    "        sequence2 = row['SeqB_RC']\n",
    "        seq1ID = row[\"Seq_idA\"]\n",
    "        seq2ID = row[\"Seq_idB\"]\n",
    "\n",
    "        seq1 = SeqRecord(Seq(sequence1),id=seq1ID)\n",
    "        seq2 = SeqRecord(Seq(sequence2),id=seq2ID)\n",
    "    \n",
    "        SeqIO.write(seq1, \"seq1.fasta\", \"fasta\")\n",
    "        SeqIO.write(seq2, \"seq2.fasta\", \"fasta\")\n",
    "    \n",
    "        blast_result = NcbiblastnCommandline(cmd=blastn_path,query=\"seq1.fasta\", subject=\"seq2.fasta\", strand=\"plus\", reward=2, penalty=-3, gapopen=5, gapextend=2, word_size=11, outfmt=10)()[0]\n",
    "        merged_df.at[index, 'BLAST_Result'] = blast_result\n",
    "    \n",
    "    merged_df['Top_Blast'] = merged_df['BLAST_Result'].str.split('\\n').str[0]\n",
    "    blast_columns = ['qseqid', 'sseqid', 'pident', 'length', 'mismatch', 'gapopen', 'qstart', 'qend', 'sstart', 'send', 'evalue', 'bitscore']\n",
    "    merged_df[blast_columns] = merged_df['Top_Blast'].str.split(',', expand=True)\n",
    "    BLASTed=merged_df.loc[merged_df['BLAST_Result'].str.len() > 5]\n",
    "    \n",
    "    df_BLASTed = pd.merge(df, BLASTed, on='Seq_idA', how='left', indicator=True)\n",
    "    df_BLASTed['IR?'] = 'No'\n",
    "    df_BLASTed.loc[df_BLASTed['_merge'] == 'both', 'IR?'] = 'Yes'\n",
    "    df_BLASTed=df_BLASTed.drop(columns=['Seq_idA', 'SequencesA', 'SequencesB', 'Repeat_NameA', 'SeqB_RC', 'BLAST_Result', 'Top_Blast', 'qseqid', 'sseqid', 'mismatch','gapopen','qstart','qend','sstart','send','evalue','bitscore','_merge'])\n",
    "    df_BLASTed = df_BLASTed.rename(columns={'Dist': 'IR_pair_distance', 'Seq_idB': 'IR_pair_Loc','Repeat_NameB':'IR_pair_Name','pident':'IR_pair_Pidentity','length':'IR_pair_matched_length'})\n",
    "    \n",
    "    df_BLASTed.to_csv(f\"IR_BLASTed_{filename}\",index=False)\n",
    "    #return  merged_df"
   ]
  },
  {
   "cell_type": "code",
   "execution_count": null,
   "id": "a7c7c8ea",
   "metadata": {},
   "outputs": [],
   "source": []
  }
 ],
 "metadata": {
  "kernelspec": {
   "display_name": "Python 3 (ipykernel)",
   "language": "python",
   "name": "python3"
  },
  "language_info": {
   "codemirror_mode": {
    "name": "ipython",
    "version": 3
   },
   "file_extension": ".py",
   "mimetype": "text/x-python",
   "name": "python",
   "nbconvert_exporter": "python",
   "pygments_lexer": "ipython3",
   "version": "3.9.12"
  }
 },
 "nbformat": 4,
 "nbformat_minor": 5
}
